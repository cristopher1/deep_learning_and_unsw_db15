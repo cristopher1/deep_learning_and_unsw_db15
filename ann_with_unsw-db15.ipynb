{
 "cells": [
  {
   "cell_type": "markdown",
   "id": "3beaf000-6394-46f5-8573-0ef53fe6f272",
   "metadata": {},
   "source": [
    "## Se instalan las dependencias usando pip\n",
    "-----"
   ]
  },
  {
   "cell_type": "code",
   "execution_count": 254,
   "id": "2961d3b1-20a1-4987-bca9-ecddb4034600",
   "metadata": {},
   "outputs": [
    {
     "name": "stdout",
     "output_type": "stream",
     "text": [
      "Requirement already satisfied: pandas in c:\\users\\crisj\\miniconda3\\lib\\site-packages (2.2.2)\n",
      "Requirement already satisfied: numpy in c:\\users\\crisj\\miniconda3\\lib\\site-packages (1.26.4)\n",
      "Requirement already satisfied: seaborn in c:\\users\\crisj\\miniconda3\\lib\\site-packages (0.13.2)\n",
      "Requirement already satisfied: scikit-learn in c:\\users\\crisj\\miniconda3\\lib\\site-packages (1.5.0)\n",
      "Requirement already satisfied: tensorflow in c:\\users\\crisj\\miniconda3\\lib\\site-packages (2.16.1)\n",
      "Requirement already satisfied: python-dateutil>=2.8.2 in c:\\users\\crisj\\miniconda3\\lib\\site-packages (from pandas) (2.9.0.post0)\n",
      "Requirement already satisfied: pytz>=2020.1 in c:\\users\\crisj\\miniconda3\\lib\\site-packages (from pandas) (2024.1)\n",
      "Requirement already satisfied: tzdata>=2022.7 in c:\\users\\crisj\\miniconda3\\lib\\site-packages (from pandas) (2024.1)\n",
      "Requirement already satisfied: matplotlib!=3.6.1,>=3.4 in c:\\users\\crisj\\miniconda3\\lib\\site-packages (from seaborn) (3.9.0)\n",
      "Requirement already satisfied: scipy>=1.6.0 in c:\\users\\crisj\\miniconda3\\lib\\site-packages (from scikit-learn) (1.13.1)\n",
      "Requirement already satisfied: joblib>=1.2.0 in c:\\users\\crisj\\miniconda3\\lib\\site-packages (from scikit-learn) (1.4.2)\n",
      "Requirement already satisfied: threadpoolctl>=3.1.0 in c:\\users\\crisj\\miniconda3\\lib\\site-packages (from scikit-learn) (3.5.0)\n",
      "Requirement already satisfied: tensorflow-intel==2.16.1 in c:\\users\\crisj\\miniconda3\\lib\\site-packages (from tensorflow) (2.16.1)\n",
      "Requirement already satisfied: absl-py>=1.0.0 in c:\\users\\crisj\\miniconda3\\lib\\site-packages (from tensorflow-intel==2.16.1->tensorflow) (2.1.0)\n",
      "Requirement already satisfied: astunparse>=1.6.0 in c:\\users\\crisj\\miniconda3\\lib\\site-packages (from tensorflow-intel==2.16.1->tensorflow) (1.6.3)\n",
      "Requirement already satisfied: flatbuffers>=23.5.26 in c:\\users\\crisj\\miniconda3\\lib\\site-packages (from tensorflow-intel==2.16.1->tensorflow) (24.3.25)\n",
      "Requirement already satisfied: gast!=0.5.0,!=0.5.1,!=0.5.2,>=0.2.1 in c:\\users\\crisj\\miniconda3\\lib\\site-packages (from tensorflow-intel==2.16.1->tensorflow) (0.5.4)\n",
      "Requirement already satisfied: google-pasta>=0.1.1 in c:\\users\\crisj\\miniconda3\\lib\\site-packages (from tensorflow-intel==2.16.1->tensorflow) (0.2.0)\n",
      "Requirement already satisfied: h5py>=3.10.0 in c:\\users\\crisj\\miniconda3\\lib\\site-packages (from tensorflow-intel==2.16.1->tensorflow) (3.11.0)\n",
      "Requirement already satisfied: libclang>=13.0.0 in c:\\users\\crisj\\miniconda3\\lib\\site-packages (from tensorflow-intel==2.16.1->tensorflow) (18.1.1)\n",
      "Requirement already satisfied: ml-dtypes~=0.3.1 in c:\\users\\crisj\\miniconda3\\lib\\site-packages (from tensorflow-intel==2.16.1->tensorflow) (0.3.2)\n",
      "Requirement already satisfied: opt-einsum>=2.3.2 in c:\\users\\crisj\\miniconda3\\lib\\site-packages (from tensorflow-intel==2.16.1->tensorflow) (3.3.0)\n",
      "Requirement already satisfied: packaging in c:\\users\\crisj\\miniconda3\\lib\\site-packages (from tensorflow-intel==2.16.1->tensorflow) (23.2)\n",
      "Requirement already satisfied: protobuf!=4.21.0,!=4.21.1,!=4.21.2,!=4.21.3,!=4.21.4,!=4.21.5,<5.0.0dev,>=3.20.3 in c:\\users\\crisj\\miniconda3\\lib\\site-packages (from tensorflow-intel==2.16.1->tensorflow) (4.25.3)\n",
      "Requirement already satisfied: requests<3,>=2.21.0 in c:\\users\\crisj\\miniconda3\\lib\\site-packages (from tensorflow-intel==2.16.1->tensorflow) (2.31.0)\n",
      "Requirement already satisfied: setuptools in c:\\users\\crisj\\miniconda3\\lib\\site-packages (from tensorflow-intel==2.16.1->tensorflow) (68.2.2)\n",
      "Requirement already satisfied: six>=1.12.0 in c:\\users\\crisj\\miniconda3\\lib\\site-packages (from tensorflow-intel==2.16.1->tensorflow) (1.16.0)\n",
      "Requirement already satisfied: termcolor>=1.1.0 in c:\\users\\crisj\\miniconda3\\lib\\site-packages (from tensorflow-intel==2.16.1->tensorflow) (2.4.0)\n",
      "Requirement already satisfied: typing-extensions>=3.6.6 in c:\\users\\crisj\\miniconda3\\lib\\site-packages (from tensorflow-intel==2.16.1->tensorflow) (4.11.0)\n",
      "Requirement already satisfied: wrapt>=1.11.0 in c:\\users\\crisj\\miniconda3\\lib\\site-packages (from tensorflow-intel==2.16.1->tensorflow) (1.16.0)\n",
      "Requirement already satisfied: grpcio<2.0,>=1.24.3 in c:\\users\\crisj\\miniconda3\\lib\\site-packages (from tensorflow-intel==2.16.1->tensorflow) (1.64.1)\n",
      "Requirement already satisfied: tensorboard<2.17,>=2.16 in c:\\users\\crisj\\miniconda3\\lib\\site-packages (from tensorflow-intel==2.16.1->tensorflow) (2.16.2)\n",
      "Requirement already satisfied: keras>=3.0.0 in c:\\users\\crisj\\miniconda3\\lib\\site-packages (from tensorflow-intel==2.16.1->tensorflow) (3.3.3)\n",
      "Requirement already satisfied: contourpy>=1.0.1 in c:\\users\\crisj\\miniconda3\\lib\\site-packages (from matplotlib!=3.6.1,>=3.4->seaborn) (1.2.1)\n",
      "Requirement already satisfied: cycler>=0.10 in c:\\users\\crisj\\miniconda3\\lib\\site-packages (from matplotlib!=3.6.1,>=3.4->seaborn) (0.12.1)\n",
      "Requirement already satisfied: fonttools>=4.22.0 in c:\\users\\crisj\\miniconda3\\lib\\site-packages (from matplotlib!=3.6.1,>=3.4->seaborn) (4.53.0)\n",
      "Requirement already satisfied: kiwisolver>=1.3.1 in c:\\users\\crisj\\miniconda3\\lib\\site-packages (from matplotlib!=3.6.1,>=3.4->seaborn) (1.4.5)\n",
      "Requirement already satisfied: pillow>=8 in c:\\users\\crisj\\miniconda3\\lib\\site-packages (from matplotlib!=3.6.1,>=3.4->seaborn) (10.3.0)\n",
      "Requirement already satisfied: pyparsing>=2.3.1 in c:\\users\\crisj\\miniconda3\\lib\\site-packages (from matplotlib!=3.6.1,>=3.4->seaborn) (3.1.2)\n",
      "Requirement already satisfied: wheel<1.0,>=0.23.0 in c:\\users\\crisj\\miniconda3\\lib\\site-packages (from astunparse>=1.6.0->tensorflow-intel==2.16.1->tensorflow) (0.41.2)\n",
      "Requirement already satisfied: rich in c:\\users\\crisj\\miniconda3\\lib\\site-packages (from keras>=3.0.0->tensorflow-intel==2.16.1->tensorflow) (13.7.1)\n",
      "Requirement already satisfied: namex in c:\\users\\crisj\\miniconda3\\lib\\site-packages (from keras>=3.0.0->tensorflow-intel==2.16.1->tensorflow) (0.0.8)\n",
      "Requirement already satisfied: optree in c:\\users\\crisj\\miniconda3\\lib\\site-packages (from keras>=3.0.0->tensorflow-intel==2.16.1->tensorflow) (0.11.0)\n",
      "Requirement already satisfied: charset-normalizer<4,>=2 in c:\\users\\crisj\\miniconda3\\lib\\site-packages (from requests<3,>=2.21.0->tensorflow-intel==2.16.1->tensorflow) (2.0.4)\n",
      "Requirement already satisfied: idna<4,>=2.5 in c:\\users\\crisj\\miniconda3\\lib\\site-packages (from requests<3,>=2.21.0->tensorflow-intel==2.16.1->tensorflow) (3.4)\n",
      "Requirement already satisfied: urllib3<3,>=1.21.1 in c:\\users\\crisj\\miniconda3\\lib\\site-packages (from requests<3,>=2.21.0->tensorflow-intel==2.16.1->tensorflow) (2.1.0)\n",
      "Requirement already satisfied: certifi>=2017.4.17 in c:\\users\\crisj\\miniconda3\\lib\\site-packages (from requests<3,>=2.21.0->tensorflow-intel==2.16.1->tensorflow) (2024.6.2)\n",
      "Requirement already satisfied: markdown>=2.6.8 in c:\\users\\crisj\\miniconda3\\lib\\site-packages (from tensorboard<2.17,>=2.16->tensorflow-intel==2.16.1->tensorflow) (3.6)\n",
      "Requirement already satisfied: tensorboard-data-server<0.8.0,>=0.7.0 in c:\\users\\crisj\\miniconda3\\lib\\site-packages (from tensorboard<2.17,>=2.16->tensorflow-intel==2.16.1->tensorflow) (0.7.2)\n",
      "Requirement already satisfied: werkzeug>=1.0.1 in c:\\users\\crisj\\miniconda3\\lib\\site-packages (from tensorboard<2.17,>=2.16->tensorflow-intel==2.16.1->tensorflow) (3.0.3)\n",
      "Requirement already satisfied: MarkupSafe>=2.1.1 in c:\\users\\crisj\\miniconda3\\lib\\site-packages (from werkzeug>=1.0.1->tensorboard<2.17,>=2.16->tensorflow-intel==2.16.1->tensorflow) (2.1.3)\n",
      "Requirement already satisfied: markdown-it-py>=2.2.0 in c:\\users\\crisj\\miniconda3\\lib\\site-packages (from rich->keras>=3.0.0->tensorflow-intel==2.16.1->tensorflow) (3.0.0)\n",
      "Requirement already satisfied: pygments<3.0.0,>=2.13.0 in c:\\users\\crisj\\miniconda3\\lib\\site-packages (from rich->keras>=3.0.0->tensorflow-intel==2.16.1->tensorflow) (2.15.1)\n",
      "Requirement already satisfied: mdurl~=0.1 in c:\\users\\crisj\\miniconda3\\lib\\site-packages (from markdown-it-py>=2.2.0->rich->keras>=3.0.0->tensorflow-intel==2.16.1->tensorflow) (0.1.2)\n"
     ]
    }
   ],
   "source": [
    "!pip install keras-tuner -q\n",
    "!pip install pandas numpy seaborn scikit-learn tensorflow"
   ]
  },
  {
   "cell_type": "markdown",
   "id": "473bc3b1-7d96-4c49-bed2-1f00d040ebb9",
   "metadata": {},
   "source": [
    "## Se importan los elementos a usar\n",
    "-----"
   ]
  },
  {
   "cell_type": "code",
   "execution_count": 383,
   "id": "4752bd05-9e45-4d92-ac64-2725ee2cd485",
   "metadata": {},
   "outputs": [],
   "source": [
    "import pandas as pd\n",
    "import numpy as np\n",
    "import seaborn as sns\n",
    "import keras_tuner\n",
    "from tensorflow import keras\n",
    "from matplotlib import pyplot as plt\n",
    "from os import path, mkdir\n",
    "from sklearn.model_selection import train_test_split\n",
    "from sklearn.metrics import confusion_matrix, classification_report\n",
    "from keras import Sequential\n",
    "from keras.layers import Dense, Dropout, Input, Normalization, BatchNormalization\n",
    "from keras.optimizers import Adam"
   ]
  },
  {
   "cell_type": "markdown",
   "id": "15c8a9c9-cd29-4c02-9af2-8f60648984a3",
   "metadata": {},
   "source": [
    "## Se definen constantes\n",
    "-----"
   ]
  },
  {
   "cell_type": "code",
   "execution_count": 384,
   "id": "f0d618a5-2361-4dde-8a30-2eeb675c54d9",
   "metadata": {},
   "outputs": [],
   "source": [
    "# parametros usados para cargar el dataset\n",
    "DATASET_COLUMNS=['sbytes', 'dbytes', 'smean', 'sload', 'ct_state_ttl', 'sttl', 'dttl', 'rate', 'dur', 'dmean']\n",
    "DATASET_COLUMN_LABEL_NAME='label'\n",
    "BASE_PATH = path.join('.', 'datasets', 'unsw-nb15')\n",
    "\n",
    "# parametros usados para dividir el dataset en validation y test\n",
    "VALIDATION_SIZE=0.2\n",
    "RANDOM_STATE=20\n",
    "\n",
    "# parametros usados para el entrenar el modelo\n",
    "NUM_EPOCHS=45\n",
    "\n",
    "# parametros usados para el ajuste de hiperparametros\n",
    "# cantidad de modelos a probar\n",
    "NUM_MODELS_TO_TEST=5\n",
    "# cantidad de veces que se va a probar el modelo\n",
    "NUM_TEST_PER_MODEL=2\n",
    "# objetivo a maximizar / minimizar\n",
    "OBJECTIVE='val_loss'\n",
    "# ruta de la carpeta raíz que contiene la carpeta que va a guardar los modelos\n",
    "BASE_MODEL_DIRECTORY=path.join('.')\n",
    "# carpeta donde se va a guardar el modelo encontrado por keras_tuner\n",
    "MODEL_DIRECTORY='models'"
   ]
  },
  {
   "cell_type": "markdown",
   "id": "6ca97c35-6b69-47c5-9146-98a2cf0224ad",
   "metadata": {},
   "source": [
    "## Se verifica que exista la carpeta models\n",
    "-----"
   ]
  },
  {
   "cell_type": "code",
   "execution_count": 302,
   "id": "32d75e19-3f13-4771-9aa6-9ee7f9d55ac3",
   "metadata": {},
   "outputs": [],
   "source": [
    "MODEL_DIRECTORY_PATH = path.join(BASE_MODEL_DIRECTORY, MODEL_DIRECTORY)\n",
    "\n",
    "if not path.exists(MODEL_DIRECTORY_PATH):\n",
    "    mkdir(MODEL_DIRECTORY_PATH)"
   ]
  },
  {
   "cell_type": "markdown",
   "id": "37c2ee8d-696d-49e0-af35-b04d1dd47c12",
   "metadata": {},
   "source": [
    "## Se definen funciones\n",
    "-----"
   ]
  },
  {
   "cell_type": "code",
   "execution_count": 304,
   "id": "a47c8790-7384-4412-8052-d79d221dae66",
   "metadata": {},
   "outputs": [],
   "source": [
    "# basado en la selección de características del paper\n",
    "# https://www.researchgate.net/publication/320944473_Towards_Developing_Network_forensic_mechanism_for_Botnet_Activities_in_the_IoT_based_on_Machine_Learning_Techniques\n",
    "def load_dataset(path, columns, label_column_name):\n",
    "    # se carga el archivo csv como un pandas dataframe\n",
    "    df = pd.read_csv(path)\n",
    "    # se quitan las etiquetas del dataset\n",
    "    labels = df.pop(label_column_name)\n",
    "    # se transforman a numpy array de tipo float 32\n",
    "    labels = labels.to_numpy(dtype=np.float32)\n",
    "    # se obtienen las características del dataframe correspondientes\n",
    "    features = df[columns]\n",
    "    # se transforman a numpy array de ti´po float 32\n",
    "    features = features.to_numpy(dtype=np.float32)\n",
    "    return features, labels"
   ]
  },
  {
   "cell_type": "markdown",
   "id": "d95e33f8-8213-45b9-ad6b-bdd34b9aad8b",
   "metadata": {},
   "source": [
    "## Se cargan los vectores de características y las correspondientes etiquetas usados para entrenar el modelo\n",
    "-----"
   ]
  },
  {
   "cell_type": "code",
   "execution_count": 305,
   "id": "e56fb7e3-988b-4d94-9f7e-9aa1a924158d",
   "metadata": {},
   "outputs": [],
   "source": [
    "train_features, train_labels = load_dataset(path.join(BASE_PATH, 'training.csv'), DATASET_COLUMNS, DATASET_COLUMN_LABEL_NAME)"
   ]
  },
  {
   "cell_type": "code",
   "execution_count": 306,
   "id": "72c85936-77d0-48e9-bb14-6e91d3c81c25",
   "metadata": {},
   "outputs": [
    {
     "name": "stdout",
     "output_type": "stream",
     "text": [
      "[[2.5800000e+02 1.7200000e+02 4.3000000e+01 ... 7.4087486e+01\n",
      "  1.2147800e-01 4.3000000e+01]\n",
      " [7.3400000e+02 4.2014000e+04 5.2000000e+01 ... 7.8473373e+01\n",
      "  6.4990199e-01 1.1060000e+03]\n",
      " [3.6400000e+02 1.3186000e+04 4.6000000e+01 ... 1.4170161e+01\n",
      "  1.6231290e+00 8.2400000e+02]\n",
      " ...\n",
      " [1.1400000e+02 0.0000000e+00 5.7000000e+01 ... 1.1111111e+05\n",
      "  9.0000003e-06 0.0000000e+00]\n",
      " [1.1400000e+02 0.0000000e+00 5.7000000e+01 ... 1.1111111e+05\n",
      "  9.0000003e-06 0.0000000e+00]\n",
      " [1.1400000e+02 0.0000000e+00 5.7000000e+01 ... 1.1111111e+05\n",
      "  9.0000003e-06 0.0000000e+00]]\n",
      "[0. 0. 0. ... 1. 1. 1.]\n"
     ]
    }
   ],
   "source": [
    "print(train_features)\n",
    "print(train_labels)"
   ]
  },
  {
   "cell_type": "markdown",
   "id": "e62ba330-c415-4adf-aad1-7924ee5b1df3",
   "metadata": {},
   "source": [
    "## Se cargan los vectores de características y las correspondientes etiquetas usados para probar el modelo\n",
    "-----"
   ]
  },
  {
   "cell_type": "code",
   "execution_count": 354,
   "id": "f2dd05a2-eaad-4c24-b0f0-52a67ce5f7bc",
   "metadata": {},
   "outputs": [],
   "source": [
    "testing_features, testing_labels = load_dataset(path.join(BASE_PATH, 'testing.csv'), DATASET_COLUMNS, DATASET_COLUMN_LABEL_NAME)"
   ]
  },
  {
   "cell_type": "code",
   "execution_count": 355,
   "id": "5684f965-8da7-40ac-b060-500d7f169c50",
   "metadata": {},
   "outputs": [
    {
     "name": "stdout",
     "output_type": "stream",
     "text": [
      "[[4.9600000e+02 0.0000000e+00 2.4800000e+02 ... 9.0909094e+04\n",
      "  1.1000000e-05 0.0000000e+00]\n",
      " [1.7620000e+03 0.0000000e+00 8.8100000e+02 ... 1.2500000e+05\n",
      "  8.0000000e-06 0.0000000e+00]\n",
      " [1.0680000e+03 0.0000000e+00 5.3400000e+02 ... 2.0000000e+05\n",
      "  4.9999999e-06 0.0000000e+00]\n",
      " ...\n",
      " [4.6000000e+01 0.0000000e+00 4.6000000e+01 ... 0.0000000e+00\n",
      "  0.0000000e+00 0.0000000e+00]\n",
      " [4.6000000e+01 0.0000000e+00 4.6000000e+01 ... 0.0000000e+00\n",
      "  0.0000000e+00 0.0000000e+00]\n",
      " [1.0400000e+02 0.0000000e+00 5.2000000e+01 ... 1.1111111e+05\n",
      "  9.0000003e-06 0.0000000e+00]]\n",
      "[0. 0. 0. ... 0. 0. 0.]\n"
     ]
    }
   ],
   "source": [
    "print(testing_features)\n",
    "print(testing_labels)"
   ]
  },
  {
   "cell_type": "markdown",
   "id": "ead5a327-9cd9-4c33-a1ba-13de06095e37",
   "metadata": {},
   "source": [
    "## Se divide el conjunto de prueba en validación y prueba\n",
    "-----"
   ]
  },
  {
   "cell_type": "code",
   "execution_count": 356,
   "id": "80cfbc25-42c2-4520-8faf-aab7c488ab55",
   "metadata": {},
   "outputs": [],
   "source": [
    "test_features, validation_features, test_labels, validation_labels = train_test_split(testing_features, testing_labels, test_size=VALIDATION_SIZE, random_state=RANDOM_STATE)"
   ]
  },
  {
   "cell_type": "code",
   "execution_count": 357,
   "id": "ccb43482-f167-4293-9402-4ef0f6ffc44a",
   "metadata": {},
   "outputs": [
    {
     "name": "stdout",
     "output_type": "stream",
     "text": [
      "65865\n",
      "16467\n"
     ]
    }
   ],
   "source": [
    "print(len(test_labels))\n",
    "print(len(validation_labels))"
   ]
  },
  {
   "cell_type": "code",
   "execution_count": 311,
   "id": "647aa3e4-e970-42d4-82d1-73c2e3a2cd75",
   "metadata": {},
   "outputs": [
    {
     "name": "stdout",
     "output_type": "stream",
     "text": [
      "[[5.6400000e+02 3.5400000e+02 5.6000000e+01 ... 2.7119986e+01\n",
      "  6.2684399e-01 4.4000000e+01]\n",
      " [1.6840000e+03 1.0168000e+04 1.2000000e+02 ... 2.7529787e+01\n",
      "  1.1260530e+00 5.6500000e+02]\n",
      " [3.7518000e+04 3.2760000e+03 7.2200000e+02 ... 5.8192661e+01\n",
      "  1.5637710e+00 8.2000000e+01]\n",
      " ...\n",
      " [2.0000000e+02 0.0000000e+00 1.0000000e+02 ... 3.3333331e+05\n",
      "  3.0000001e-06 0.0000000e+00]\n",
      " [4.7600000e+02 0.0000000e+00 2.3800000e+02 ... 1.4285714e+05\n",
      "  7.0000001e-06 0.0000000e+00]\n",
      " [9.9000000e+02 0.0000000e+00 4.5000000e+01 ... 1.4144690e+00\n",
      "  1.4846565e+01 0.0000000e+00]]\n",
      "[1. 0. 0. ... 1. 0. 0.]\n"
     ]
    }
   ],
   "source": [
    "print(validation_features)\n",
    "print(validation_labels)"
   ]
  },
  {
   "cell_type": "code",
   "execution_count": 312,
   "id": "65dff265-ae79-4618-bb84-dd20c4ecc76d",
   "metadata": {},
   "outputs": [
    {
     "name": "stdout",
     "output_type": "stream",
     "text": [
      "[[1.1400000e+02 0.0000000e+00 5.7000000e+01 ... 1.0000000e+05\n",
      "  9.9999997e-06 0.0000000e+00]\n",
      " [4.6000000e+01 0.0000000e+00 4.6000000e+01 ... 0.0000000e+00\n",
      "  0.0000000e+00 0.0000000e+00]\n",
      " [1.2640000e+03 8.3800000e+02 1.0500000e+02 ... 1.6304525e+01\n",
      "  1.2879860e+00 8.4000000e+01]\n",
      " ...\n",
      " [2.7660000e+03 2.4004000e+04 6.3000000e+01 ... 6.9968555e+03\n",
      "  1.2720000e-02 5.2200000e+02]\n",
      " [2.9340000e+03 3.7420000e+03 5.6000000e+01 ... 1.2388532e+02\n",
      "  8.4755802e-01 6.9000000e+01]\n",
      " [1.6840000e+03 1.0168000e+04 1.2000000e+02 ... 2.6810949e+01\n",
      "  1.1562440e+00 5.6500000e+02]]\n",
      "[1. 0. 1. ... 0. 0. 0.]\n"
     ]
    }
   ],
   "source": [
    "print(test_features)\n",
    "print(test_labels)"
   ]
  },
  {
   "cell_type": "markdown",
   "id": "e0b8a820-cfb0-48ee-a9df-9a9feef299c1",
   "metadata": {},
   "source": [
    "## Ajuste de hiperparámetros para encontrar el modelo con mayor val accuracy\n",
    "-----"
   ]
  },
  {
   "cell_type": "markdown",
   "id": "c4e0b0bd-29bb-4bcf-9578-e55f5adebdfb",
   "metadata": {},
   "source": [
    "### Se definen funciones para definir los modelos y crear los modelos mediante ajuste de hiperparámetros\n",
    "-----"
   ]
  },
  {
   "cell_type": "code",
   "execution_count": 350,
   "id": "3a7fec54-9430-4394-b378-287cf3794cb1",
   "metadata": {},
   "outputs": [],
   "source": [
    "# define la estructura del modelo\n",
    "def define_model(input_shape, train_features, num_layers, units_selected_per_layer, activation_per_dense_layer,\n",
    "                 learning_rate, loss, metrics, dropout_before_first_hidden_layer=False, dropout=False,\n",
    "                 dropout_rate=None, batch_normalization=False):\n",
    "    # Se define preprocesamiento\n",
    "    normalization = Normalization()\n",
    "    normalization.adapt(train_features)\n",
    "    \n",
    "    # Definición del modelo\n",
    "    model = keras.Sequential()\n",
    "    model.add(Input(shape=input_shape))\n",
    "    model.add(normalization)\n",
    "    if dropout_before_first_hidden_layer:\n",
    "        model.add(Dropout(rate=dropout_rate))\n",
    "    for layer in range(num_layers):\n",
    "        if dropout and layer != 0:\n",
    "            model.add(Dropout(rate=dropout_rate))\n",
    "        model.add(Dense(units=units_selected_per_layer[layer], activation=activation_per_dense_layer))\n",
    "        if batch_normalization:\n",
    "            model.add(BatchNormalization())\n",
    "    if dropout:\n",
    "        model.add(Dropout(rate=dropout_rate))\n",
    "    model.add(Dense(units=1, activation='sigmoid'))\n",
    "\n",
    "    # Definición de la compilación\n",
    "    model.compile(\n",
    "        optimizer=Adam(learning_rate=learning_rate),\n",
    "        loss=loss,\n",
    "        metrics=metrics\n",
    "    )\n",
    "\n",
    "    return model\n",
    "\n",
    "# crea el modelo\n",
    "def create_build_model(input_shape, train_features):\n",
    "    def build_model(hp):\n",
    "        # parametros para configurar el modelo\n",
    "        NUM_MIN_LAYERS=1\n",
    "        NUM_MAX_LAYERS=3\n",
    "        \n",
    "        units_selected_per_hidden_layer = []\n",
    "        activation_per_dense_layer = hp.Choice(\"activation\", ['relu', 'elu', 'leaky_relu'])\n",
    "        num_hidden_layers = hp.Choice('num_layers', list(range(NUM_MIN_LAYERS, NUM_MAX_LAYERS + 1)))\n",
    "        dropout_before_first_hidden_layer = hp.Boolean(\"dropout_before_first_layer\")\n",
    "        dropout = hp.Boolean(\"dropout\")\n",
    "        dropout_rate = None\n",
    "        with hp.conditional_scope(\"dropout\", [True]):\n",
    "            dropout_rate = hp.Choice(\"dropout_rate\", [0.25, 0.3, 0.35, 0.4, 0.45, 0.5])\n",
    "        batch_normalization = hp.Boolean(\"batch_normalization\")\n",
    "        # si dropout y batch_normalization son false, se usa por lo menos la capa de batch_normalization\n",
    "        batch_normalization = True if not (dropout or batch_normalization) else batch_normalization\n",
    "        # cantidad de neuronas usadas en las capas densas de la red\n",
    "        units_per_layers = {\n",
    "            1: [1024, 512, 256, 128, 64, 32],\n",
    "            2: [512, 256, 128, 64, 32, 16],\n",
    "            3: [256, 128, 64, 16, 8]\n",
    "        }\n",
    "\n",
    "        # utilizado para cambiar el indice de las capas dentro del for\n",
    "        last_hidden_layer = num_hidden_layers + 1\n",
    "        \n",
    "        for layer in range(1, last_hidden_layer):\n",
    "            with hp.conditional_scope(\"num_layers\", list(range(layer, NUM_MAX_LAYERS + 1))):\n",
    "                units_in_this_layer = units_per_layers[layer]\n",
    "                units_selected_per_hidden_layer.append(hp.Choice(f\"units_hidden_layer_{layer}\", units_in_this_layer))\n",
    "    \n",
    "        # parametros para configurar el compilador\n",
    "        learning_rate = hp.Float(\"lr\", min_value=0.00001, max_value=0.1, sampling=\"log\")\n",
    "        loss=hp.Choice(\"loss\", ['binary_crossentropy', 'binary_focal_crossentropy'])\n",
    "        metrics=['accuracy']\n",
    "    \n",
    "        model = define_model(input_shape, train_features, num_hidden_layers, units_selected_per_hidden_layer,\n",
    "                             activation_per_dense_layer, learning_rate, loss, metrics,\n",
    "                             dropout_before_first_hidden_layer=dropout_before_first_hidden_layer,dropout=dropout,\n",
    "                             dropout_rate=dropout_rate, batch_normalization=batch_normalization)\n",
    "        model.summary()\n",
    "        \n",
    "        return model\n",
    "    return build_model"
   ]
  },
  {
   "cell_type": "markdown",
   "id": "ce7d7c09-2f35-4d01-9e5d-177d9945b267",
   "metadata": {},
   "source": [
    "### Se configura la estrategía de búsqueda de hiperparámetros\n",
    "-----"
   ]
  },
  {
   "cell_type": "code",
   "execution_count": 351,
   "id": "6f3e15c5-cacd-44f1-9e71-44102367934b",
   "metadata": {},
   "outputs": [
    {
     "data": {
      "text/html": [
       "<pre style=\"white-space:pre;overflow-x:auto;line-height:normal;font-family:Menlo,'DejaVu Sans Mono',consolas,'Courier New',monospace\"><span style=\"font-weight: bold\">Model: \"sequential_1\"</span>\n",
       "</pre>\n"
      ],
      "text/plain": [
       "\u001b[1mModel: \"sequential_1\"\u001b[0m\n"
      ]
     },
     "metadata": {},
     "output_type": "display_data"
    },
    {
     "data": {
      "text/html": [
       "<pre style=\"white-space:pre;overflow-x:auto;line-height:normal;font-family:Menlo,'DejaVu Sans Mono',consolas,'Courier New',monospace\">┏━━━━━━━━━━━━━━━━━━━━━━━━━━━━━━━━━━━━━━┳━━━━━━━━━━━━━━━━━━━━━━━━━━━━━┳━━━━━━━━━━━━━━━━━┓\n",
       "┃<span style=\"font-weight: bold\"> Layer (type)                         </span>┃<span style=\"font-weight: bold\"> Output Shape                </span>┃<span style=\"font-weight: bold\">         Param # </span>┃\n",
       "┡━━━━━━━━━━━━━━━━━━━━━━━━━━━━━━━━━━━━━━╇━━━━━━━━━━━━━━━━━━━━━━━━━━━━━╇━━━━━━━━━━━━━━━━━┩\n",
       "│ normalization_1 (<span style=\"color: #0087ff; text-decoration-color: #0087ff\">Normalization</span>)      │ (<span style=\"color: #00d7ff; text-decoration-color: #00d7ff\">None</span>, <span style=\"color: #00af00; text-decoration-color: #00af00\">10</span>)                  │              <span style=\"color: #00af00; text-decoration-color: #00af00\">21</span> │\n",
       "├──────────────────────────────────────┼─────────────────────────────┼─────────────────┤\n",
       "│ dense_3 (<span style=\"color: #0087ff; text-decoration-color: #0087ff\">Dense</span>)                      │ (<span style=\"color: #00d7ff; text-decoration-color: #00d7ff\">None</span>, <span style=\"color: #00af00; text-decoration-color: #00af00\">1024</span>)                │          <span style=\"color: #00af00; text-decoration-color: #00af00\">11,264</span> │\n",
       "├──────────────────────────────────────┼─────────────────────────────┼─────────────────┤\n",
       "│ batch_normalization                  │ (<span style=\"color: #00d7ff; text-decoration-color: #00d7ff\">None</span>, <span style=\"color: #00af00; text-decoration-color: #00af00\">1024</span>)                │           <span style=\"color: #00af00; text-decoration-color: #00af00\">4,096</span> │\n",
       "│ (<span style=\"color: #0087ff; text-decoration-color: #0087ff\">BatchNormalization</span>)                 │                             │                 │\n",
       "├──────────────────────────────────────┼─────────────────────────────┼─────────────────┤\n",
       "│ dense_4 (<span style=\"color: #0087ff; text-decoration-color: #0087ff\">Dense</span>)                      │ (<span style=\"color: #00d7ff; text-decoration-color: #00d7ff\">None</span>, <span style=\"color: #00af00; text-decoration-color: #00af00\">1</span>)                   │           <span style=\"color: #00af00; text-decoration-color: #00af00\">1,025</span> │\n",
       "└──────────────────────────────────────┴─────────────────────────────┴─────────────────┘\n",
       "</pre>\n"
      ],
      "text/plain": [
       "┏━━━━━━━━━━━━━━━━━━━━━━━━━━━━━━━━━━━━━━┳━━━━━━━━━━━━━━━━━━━━━━━━━━━━━┳━━━━━━━━━━━━━━━━━┓\n",
       "┃\u001b[1m \u001b[0m\u001b[1mLayer (type)                        \u001b[0m\u001b[1m \u001b[0m┃\u001b[1m \u001b[0m\u001b[1mOutput Shape               \u001b[0m\u001b[1m \u001b[0m┃\u001b[1m \u001b[0m\u001b[1m        Param #\u001b[0m\u001b[1m \u001b[0m┃\n",
       "┡━━━━━━━━━━━━━━━━━━━━━━━━━━━━━━━━━━━━━━╇━━━━━━━━━━━━━━━━━━━━━━━━━━━━━╇━━━━━━━━━━━━━━━━━┩\n",
       "│ normalization_1 (\u001b[38;5;33mNormalization\u001b[0m)      │ (\u001b[38;5;45mNone\u001b[0m, \u001b[38;5;34m10\u001b[0m)                  │              \u001b[38;5;34m21\u001b[0m │\n",
       "├──────────────────────────────────────┼─────────────────────────────┼─────────────────┤\n",
       "│ dense_3 (\u001b[38;5;33mDense\u001b[0m)                      │ (\u001b[38;5;45mNone\u001b[0m, \u001b[38;5;34m1024\u001b[0m)                │          \u001b[38;5;34m11,264\u001b[0m │\n",
       "├──────────────────────────────────────┼─────────────────────────────┼─────────────────┤\n",
       "│ batch_normalization                  │ (\u001b[38;5;45mNone\u001b[0m, \u001b[38;5;34m1024\u001b[0m)                │           \u001b[38;5;34m4,096\u001b[0m │\n",
       "│ (\u001b[38;5;33mBatchNormalization\u001b[0m)                 │                             │                 │\n",
       "├──────────────────────────────────────┼─────────────────────────────┼─────────────────┤\n",
       "│ dense_4 (\u001b[38;5;33mDense\u001b[0m)                      │ (\u001b[38;5;45mNone\u001b[0m, \u001b[38;5;34m1\u001b[0m)                   │           \u001b[38;5;34m1,025\u001b[0m │\n",
       "└──────────────────────────────────────┴─────────────────────────────┴─────────────────┘\n"
      ]
     },
     "metadata": {},
     "output_type": "display_data"
    },
    {
     "data": {
      "text/html": [
       "<pre style=\"white-space:pre;overflow-x:auto;line-height:normal;font-family:Menlo,'DejaVu Sans Mono',consolas,'Courier New',monospace\"><span style=\"font-weight: bold\"> Total params: </span><span style=\"color: #00af00; text-decoration-color: #00af00\">16,406</span> (64.09 KB)\n",
       "</pre>\n"
      ],
      "text/plain": [
       "\u001b[1m Total params: \u001b[0m\u001b[38;5;34m16,406\u001b[0m (64.09 KB)\n"
      ]
     },
     "metadata": {},
     "output_type": "display_data"
    },
    {
     "data": {
      "text/html": [
       "<pre style=\"white-space:pre;overflow-x:auto;line-height:normal;font-family:Menlo,'DejaVu Sans Mono',consolas,'Courier New',monospace\"><span style=\"font-weight: bold\"> Trainable params: </span><span style=\"color: #00af00; text-decoration-color: #00af00\">14,337</span> (56.00 KB)\n",
       "</pre>\n"
      ],
      "text/plain": [
       "\u001b[1m Trainable params: \u001b[0m\u001b[38;5;34m14,337\u001b[0m (56.00 KB)\n"
      ]
     },
     "metadata": {},
     "output_type": "display_data"
    },
    {
     "data": {
      "text/html": [
       "<pre style=\"white-space:pre;overflow-x:auto;line-height:normal;font-family:Menlo,'DejaVu Sans Mono',consolas,'Courier New',monospace\"><span style=\"font-weight: bold\"> Non-trainable params: </span><span style=\"color: #00af00; text-decoration-color: #00af00\">2,069</span> (8.09 KB)\n",
       "</pre>\n"
      ],
      "text/plain": [
       "\u001b[1m Non-trainable params: \u001b[0m\u001b[38;5;34m2,069\u001b[0m (8.09 KB)\n"
      ]
     },
     "metadata": {},
     "output_type": "display_data"
    },
    {
     "data": {
      "text/html": [
       "<pre style=\"white-space:pre;overflow-x:auto;line-height:normal;font-family:Menlo,'DejaVu Sans Mono',consolas,'Courier New',monospace\"><span style=\"font-weight: bold\">Model: \"sequential_2\"</span>\n",
       "</pre>\n"
      ],
      "text/plain": [
       "\u001b[1mModel: \"sequential_2\"\u001b[0m\n"
      ]
     },
     "metadata": {},
     "output_type": "display_data"
    },
    {
     "data": {
      "text/html": [
       "<pre style=\"white-space:pre;overflow-x:auto;line-height:normal;font-family:Menlo,'DejaVu Sans Mono',consolas,'Courier New',monospace\">┏━━━━━━━━━━━━━━━━━━━━━━━━━━━━━━━━━━━━━━┳━━━━━━━━━━━━━━━━━━━━━━━━━━━━━┳━━━━━━━━━━━━━━━━━┓\n",
       "┃<span style=\"font-weight: bold\"> Layer (type)                         </span>┃<span style=\"font-weight: bold\"> Output Shape                </span>┃<span style=\"font-weight: bold\">         Param # </span>┃\n",
       "┡━━━━━━━━━━━━━━━━━━━━━━━━━━━━━━━━━━━━━━╇━━━━━━━━━━━━━━━━━━━━━━━━━━━━━╇━━━━━━━━━━━━━━━━━┩\n",
       "│ normalization_2 (<span style=\"color: #0087ff; text-decoration-color: #0087ff\">Normalization</span>)      │ (<span style=\"color: #00d7ff; text-decoration-color: #00d7ff\">None</span>, <span style=\"color: #00af00; text-decoration-color: #00af00\">10</span>)                  │              <span style=\"color: #00af00; text-decoration-color: #00af00\">21</span> │\n",
       "├──────────────────────────────────────┼─────────────────────────────┼─────────────────┤\n",
       "│ dense_5 (<span style=\"color: #0087ff; text-decoration-color: #0087ff\">Dense</span>)                      │ (<span style=\"color: #00d7ff; text-decoration-color: #00d7ff\">None</span>, <span style=\"color: #00af00; text-decoration-color: #00af00\">1024</span>)                │          <span style=\"color: #00af00; text-decoration-color: #00af00\">11,264</span> │\n",
       "├──────────────────────────────────────┼─────────────────────────────┼─────────────────┤\n",
       "│ dropout_3 (<span style=\"color: #0087ff; text-decoration-color: #0087ff\">Dropout</span>)                  │ (<span style=\"color: #00d7ff; text-decoration-color: #00d7ff\">None</span>, <span style=\"color: #00af00; text-decoration-color: #00af00\">1024</span>)                │               <span style=\"color: #00af00; text-decoration-color: #00af00\">0</span> │\n",
       "├──────────────────────────────────────┼─────────────────────────────┼─────────────────┤\n",
       "│ dense_6 (<span style=\"color: #0087ff; text-decoration-color: #0087ff\">Dense</span>)                      │ (<span style=\"color: #00d7ff; text-decoration-color: #00d7ff\">None</span>, <span style=\"color: #00af00; text-decoration-color: #00af00\">1</span>)                   │           <span style=\"color: #00af00; text-decoration-color: #00af00\">1,025</span> │\n",
       "└──────────────────────────────────────┴─────────────────────────────┴─────────────────┘\n",
       "</pre>\n"
      ],
      "text/plain": [
       "┏━━━━━━━━━━━━━━━━━━━━━━━━━━━━━━━━━━━━━━┳━━━━━━━━━━━━━━━━━━━━━━━━━━━━━┳━━━━━━━━━━━━━━━━━┓\n",
       "┃\u001b[1m \u001b[0m\u001b[1mLayer (type)                        \u001b[0m\u001b[1m \u001b[0m┃\u001b[1m \u001b[0m\u001b[1mOutput Shape               \u001b[0m\u001b[1m \u001b[0m┃\u001b[1m \u001b[0m\u001b[1m        Param #\u001b[0m\u001b[1m \u001b[0m┃\n",
       "┡━━━━━━━━━━━━━━━━━━━━━━━━━━━━━━━━━━━━━━╇━━━━━━━━━━━━━━━━━━━━━━━━━━━━━╇━━━━━━━━━━━━━━━━━┩\n",
       "│ normalization_2 (\u001b[38;5;33mNormalization\u001b[0m)      │ (\u001b[38;5;45mNone\u001b[0m, \u001b[38;5;34m10\u001b[0m)                  │              \u001b[38;5;34m21\u001b[0m │\n",
       "├──────────────────────────────────────┼─────────────────────────────┼─────────────────┤\n",
       "│ dense_5 (\u001b[38;5;33mDense\u001b[0m)                      │ (\u001b[38;5;45mNone\u001b[0m, \u001b[38;5;34m1024\u001b[0m)                │          \u001b[38;5;34m11,264\u001b[0m │\n",
       "├──────────────────────────────────────┼─────────────────────────────┼─────────────────┤\n",
       "│ dropout_3 (\u001b[38;5;33mDropout\u001b[0m)                  │ (\u001b[38;5;45mNone\u001b[0m, \u001b[38;5;34m1024\u001b[0m)                │               \u001b[38;5;34m0\u001b[0m │\n",
       "├──────────────────────────────────────┼─────────────────────────────┼─────────────────┤\n",
       "│ dense_6 (\u001b[38;5;33mDense\u001b[0m)                      │ (\u001b[38;5;45mNone\u001b[0m, \u001b[38;5;34m1\u001b[0m)                   │           \u001b[38;5;34m1,025\u001b[0m │\n",
       "└──────────────────────────────────────┴─────────────────────────────┴─────────────────┘\n"
      ]
     },
     "metadata": {},
     "output_type": "display_data"
    },
    {
     "data": {
      "text/html": [
       "<pre style=\"white-space:pre;overflow-x:auto;line-height:normal;font-family:Menlo,'DejaVu Sans Mono',consolas,'Courier New',monospace\"><span style=\"font-weight: bold\"> Total params: </span><span style=\"color: #00af00; text-decoration-color: #00af00\">12,310</span> (48.09 KB)\n",
       "</pre>\n"
      ],
      "text/plain": [
       "\u001b[1m Total params: \u001b[0m\u001b[38;5;34m12,310\u001b[0m (48.09 KB)\n"
      ]
     },
     "metadata": {},
     "output_type": "display_data"
    },
    {
     "data": {
      "text/html": [
       "<pre style=\"white-space:pre;overflow-x:auto;line-height:normal;font-family:Menlo,'DejaVu Sans Mono',consolas,'Courier New',monospace\"><span style=\"font-weight: bold\"> Trainable params: </span><span style=\"color: #00af00; text-decoration-color: #00af00\">12,289</span> (48.00 KB)\n",
       "</pre>\n"
      ],
      "text/plain": [
       "\u001b[1m Trainable params: \u001b[0m\u001b[38;5;34m12,289\u001b[0m (48.00 KB)\n"
      ]
     },
     "metadata": {},
     "output_type": "display_data"
    },
    {
     "data": {
      "text/html": [
       "<pre style=\"white-space:pre;overflow-x:auto;line-height:normal;font-family:Menlo,'DejaVu Sans Mono',consolas,'Courier New',monospace\"><span style=\"font-weight: bold\"> Non-trainable params: </span><span style=\"color: #00af00; text-decoration-color: #00af00\">21</span> (88.00 B)\n",
       "</pre>\n"
      ],
      "text/plain": [
       "\u001b[1m Non-trainable params: \u001b[0m\u001b[38;5;34m21\u001b[0m (88.00 B)\n"
      ]
     },
     "metadata": {},
     "output_type": "display_data"
    }
   ],
   "source": [
    "num_features = train_features.shape[1]\n",
    "input_shape = (num_features,)\n",
    "\n",
    "tuner = keras_tuner.BayesianOptimization(\n",
    "    hypermodel=create_build_model(input_shape, train_features),\n",
    "    objective=OBJECTIVE,\n",
    "    max_trials=NUM_MODELS_TO_TEST,\n",
    "    executions_per_trial=NUM_TEST_PER_MODEL,\n",
    "    overwrite=True,\n",
    "    directory=BASE_MODEL_DIRECTORY,\n",
    "    project_name=MODEL_DIRECTORY\n",
    ")"
   ]
  },
  {
   "cell_type": "code",
   "execution_count": 352,
   "id": "e0c03b3d-3468-4758-b64b-c0143fb39f47",
   "metadata": {},
   "outputs": [
    {
     "name": "stdout",
     "output_type": "stream",
     "text": [
      "Search space summary\n",
      "Default search space size: 9\n",
      "activation (Choice)\n",
      "{'default': 'relu', 'conditions': [], 'values': ['relu', 'elu', 'leaky_relu'], 'ordered': False}\n",
      "num_layers (Choice)\n",
      "{'default': 1, 'conditions': [], 'values': [1, 2, 3], 'ordered': True}\n",
      "dropout_before_first_layer (Boolean)\n",
      "{'default': False, 'conditions': []}\n",
      "dropout (Boolean)\n",
      "{'default': False, 'conditions': []}\n",
      "dropout_rate (Choice)\n",
      "{'default': 0.25, 'conditions': [{'class_name': 'Parent', 'config': {'name': 'dropout', 'values': [True]}}], 'values': [0.25, 0.3, 0.35, 0.4, 0.45, 0.5], 'ordered': True}\n",
      "batch_normalization (Boolean)\n",
      "{'default': False, 'conditions': []}\n",
      "units_hidden_layer_1 (Choice)\n",
      "{'default': 1024, 'conditions': [{'class_name': 'Parent', 'config': {'name': 'num_layers', 'values': [1, 2, 3]}}], 'values': [1024, 512, 256, 128, 64, 32], 'ordered': True}\n",
      "lr (Float)\n",
      "{'default': 1e-05, 'conditions': [], 'min_value': 1e-05, 'max_value': 0.1, 'step': None, 'sampling': 'log'}\n",
      "loss (Choice)\n",
      "{'default': 'binary_crossentropy', 'conditions': [], 'values': ['binary_crossentropy', 'binary_focal_crossentropy'], 'ordered': False}\n"
     ]
    }
   ],
   "source": [
    "tuner.search_space_summary()"
   ]
  },
  {
   "cell_type": "markdown",
   "id": "5e3c8fa0-cb12-496b-8c59-c2f90479fc0e",
   "metadata": {},
   "source": [
    "### Se realiza la búsqueda de los hiperparámetros\n",
    "-----"
   ]
  },
  {
   "cell_type": "code",
   "execution_count": 353,
   "id": "b06d24b8-b7a2-4fc1-b3bd-2e92c3041f5b",
   "metadata": {},
   "outputs": [
    {
     "name": "stdout",
     "output_type": "stream",
     "text": [
      "Trial 5 Complete [00h 12m 56s]\n",
      "val_loss: 0.0671234130859375\n",
      "\n",
      "Best val_loss So Far: 0.0671234130859375\n",
      "Total elapsed time: 01h 25m 15s\n"
     ]
    }
   ],
   "source": [
    "tuner.search(train_features, train_labels, epochs=NUM_EPOCHS, validation_data=(validation_features, validation_labels), shuffle=True)"
   ]
  },
  {
   "cell_type": "markdown",
   "id": "9c85a0ef-6be9-4c57-8a9f-6ba9956ef104",
   "metadata": {},
   "source": [
    "## Resumen del ajuste de hiperparámetros\n",
    "-----"
   ]
  },
  {
   "cell_type": "code",
   "execution_count": 358,
   "id": "f541f228-a06c-4608-bbbe-a235f8d7391b",
   "metadata": {},
   "outputs": [
    {
     "name": "stdout",
     "output_type": "stream",
     "text": [
      "Results summary\n",
      "Results in .\\models\n",
      "Showing 10 best trials\n",
      "Objective(name=\"val_loss\", direction=\"min\")\n",
      "\n",
      "Trial 4 summary\n",
      "Hyperparameters:\n",
      "activation: relu\n",
      "num_layers: 1\n",
      "dropout_before_first_layer: False\n",
      "dropout: False\n",
      "batch_normalization: False\n",
      "units_hidden_layer_1: 256\n",
      "lr: 0.0008701793785001601\n",
      "loss: binary_focal_crossentropy\n",
      "Score: 0.0671234130859375\n",
      "\n",
      "Trial 2 summary\n",
      "Hyperparameters:\n",
      "activation: relu\n",
      "num_layers: 3\n",
      "dropout_before_first_layer: False\n",
      "dropout: True\n",
      "dropout_rate: 0.45\n",
      "batch_normalization: False\n",
      "units_hidden_layer_1: 512\n",
      "lr: 0.001540951160801434\n",
      "loss: binary_focal_crossentropy\n",
      "units_hidden_layer_2: 64\n",
      "units_hidden_layer_3: 256\n",
      "Score: 0.07052388414740562\n",
      "\n",
      "Trial 0 summary\n",
      "Hyperparameters:\n",
      "activation: elu\n",
      "num_layers: 1\n",
      "dropout_before_first_layer: False\n",
      "dropout: True\n",
      "dropout_rate: 0.4\n",
      "batch_normalization: True\n",
      "units_hidden_layer_1: 512\n",
      "lr: 0.0016571948316327224\n",
      "loss: binary_focal_crossentropy\n",
      "Score: 0.08670013397932053\n",
      "\n",
      "Trial 3 summary\n",
      "Hyperparameters:\n",
      "activation: relu\n",
      "num_layers: 2\n",
      "dropout_before_first_layer: False\n",
      "dropout: True\n",
      "dropout_rate: 0.35\n",
      "batch_normalization: False\n",
      "units_hidden_layer_1: 64\n",
      "lr: 0.044962643321091816\n",
      "loss: binary_focal_crossentropy\n",
      "units_hidden_layer_2: 512\n",
      "Score: 0.13368535041809082\n",
      "\n",
      "Trial 1 summary\n",
      "Hyperparameters:\n",
      "activation: elu\n",
      "num_layers: 2\n",
      "dropout_before_first_layer: True\n",
      "dropout: True\n",
      "dropout_rate: 0.5\n",
      "batch_normalization: False\n",
      "units_hidden_layer_1: 128\n",
      "lr: 2.6168419749547224e-05\n",
      "loss: binary_crossentropy\n",
      "units_hidden_layer_2: 512\n",
      "Score: 0.5020423829555511\n"
     ]
    }
   ],
   "source": [
    "tuner.results_summary()"
   ]
  },
  {
   "cell_type": "markdown",
   "id": "a1f0d89c-44cf-45ff-a980-c5afa37a51ce",
   "metadata": {},
   "source": [
    "## Obtener el mejor modelo\n",
    "-----"
   ]
  },
  {
   "cell_type": "code",
   "execution_count": 359,
   "id": "992496b4-88fb-4946-b1d8-b2e95a41db35",
   "metadata": {},
   "outputs": [
    {
     "data": {
      "text/html": [
       "<pre style=\"white-space:pre;overflow-x:auto;line-height:normal;font-family:Menlo,'DejaVu Sans Mono',consolas,'Courier New',monospace\"><span style=\"font-weight: bold\">Model: \"sequential\"</span>\n",
       "</pre>\n"
      ],
      "text/plain": [
       "\u001b[1mModel: \"sequential\"\u001b[0m\n"
      ]
     },
     "metadata": {},
     "output_type": "display_data"
    },
    {
     "data": {
      "text/html": [
       "<pre style=\"white-space:pre;overflow-x:auto;line-height:normal;font-family:Menlo,'DejaVu Sans Mono',consolas,'Courier New',monospace\">┏━━━━━━━━━━━━━━━━━━━━━━━━━━━━━━━━━━━━━━┳━━━━━━━━━━━━━━━━━━━━━━━━━━━━━┳━━━━━━━━━━━━━━━━━┓\n",
       "┃<span style=\"font-weight: bold\"> Layer (type)                         </span>┃<span style=\"font-weight: bold\"> Output Shape                </span>┃<span style=\"font-weight: bold\">         Param # </span>┃\n",
       "┡━━━━━━━━━━━━━━━━━━━━━━━━━━━━━━━━━━━━━━╇━━━━━━━━━━━━━━━━━━━━━━━━━━━━━╇━━━━━━━━━━━━━━━━━┩\n",
       "│ normalization (<span style=\"color: #0087ff; text-decoration-color: #0087ff\">Normalization</span>)        │ (<span style=\"color: #00d7ff; text-decoration-color: #00d7ff\">None</span>, <span style=\"color: #00af00; text-decoration-color: #00af00\">10</span>)                  │              <span style=\"color: #00af00; text-decoration-color: #00af00\">21</span> │\n",
       "├──────────────────────────────────────┼─────────────────────────────┼─────────────────┤\n",
       "│ dense (<span style=\"color: #0087ff; text-decoration-color: #0087ff\">Dense</span>)                        │ (<span style=\"color: #00d7ff; text-decoration-color: #00d7ff\">None</span>, <span style=\"color: #00af00; text-decoration-color: #00af00\">256</span>)                 │           <span style=\"color: #00af00; text-decoration-color: #00af00\">2,816</span> │\n",
       "├──────────────────────────────────────┼─────────────────────────────┼─────────────────┤\n",
       "│ batch_normalization                  │ (<span style=\"color: #00d7ff; text-decoration-color: #00d7ff\">None</span>, <span style=\"color: #00af00; text-decoration-color: #00af00\">256</span>)                 │           <span style=\"color: #00af00; text-decoration-color: #00af00\">1,024</span> │\n",
       "│ (<span style=\"color: #0087ff; text-decoration-color: #0087ff\">BatchNormalization</span>)                 │                             │                 │\n",
       "├──────────────────────────────────────┼─────────────────────────────┼─────────────────┤\n",
       "│ dense_1 (<span style=\"color: #0087ff; text-decoration-color: #0087ff\">Dense</span>)                      │ (<span style=\"color: #00d7ff; text-decoration-color: #00d7ff\">None</span>, <span style=\"color: #00af00; text-decoration-color: #00af00\">1</span>)                   │             <span style=\"color: #00af00; text-decoration-color: #00af00\">257</span> │\n",
       "└──────────────────────────────────────┴─────────────────────────────┴─────────────────┘\n",
       "</pre>\n"
      ],
      "text/plain": [
       "┏━━━━━━━━━━━━━━━━━━━━━━━━━━━━━━━━━━━━━━┳━━━━━━━━━━━━━━━━━━━━━━━━━━━━━┳━━━━━━━━━━━━━━━━━┓\n",
       "┃\u001b[1m \u001b[0m\u001b[1mLayer (type)                        \u001b[0m\u001b[1m \u001b[0m┃\u001b[1m \u001b[0m\u001b[1mOutput Shape               \u001b[0m\u001b[1m \u001b[0m┃\u001b[1m \u001b[0m\u001b[1m        Param #\u001b[0m\u001b[1m \u001b[0m┃\n",
       "┡━━━━━━━━━━━━━━━━━━━━━━━━━━━━━━━━━━━━━━╇━━━━━━━━━━━━━━━━━━━━━━━━━━━━━╇━━━━━━━━━━━━━━━━━┩\n",
       "│ normalization (\u001b[38;5;33mNormalization\u001b[0m)        │ (\u001b[38;5;45mNone\u001b[0m, \u001b[38;5;34m10\u001b[0m)                  │              \u001b[38;5;34m21\u001b[0m │\n",
       "├──────────────────────────────────────┼─────────────────────────────┼─────────────────┤\n",
       "│ dense (\u001b[38;5;33mDense\u001b[0m)                        │ (\u001b[38;5;45mNone\u001b[0m, \u001b[38;5;34m256\u001b[0m)                 │           \u001b[38;5;34m2,816\u001b[0m │\n",
       "├──────────────────────────────────────┼─────────────────────────────┼─────────────────┤\n",
       "│ batch_normalization                  │ (\u001b[38;5;45mNone\u001b[0m, \u001b[38;5;34m256\u001b[0m)                 │           \u001b[38;5;34m1,024\u001b[0m │\n",
       "│ (\u001b[38;5;33mBatchNormalization\u001b[0m)                 │                             │                 │\n",
       "├──────────────────────────────────────┼─────────────────────────────┼─────────────────┤\n",
       "│ dense_1 (\u001b[38;5;33mDense\u001b[0m)                      │ (\u001b[38;5;45mNone\u001b[0m, \u001b[38;5;34m1\u001b[0m)                   │             \u001b[38;5;34m257\u001b[0m │\n",
       "└──────────────────────────────────────┴─────────────────────────────┴─────────────────┘\n"
      ]
     },
     "metadata": {},
     "output_type": "display_data"
    },
    {
     "data": {
      "text/html": [
       "<pre style=\"white-space:pre;overflow-x:auto;line-height:normal;font-family:Menlo,'DejaVu Sans Mono',consolas,'Courier New',monospace\"><span style=\"font-weight: bold\"> Total params: </span><span style=\"color: #00af00; text-decoration-color: #00af00\">4,118</span> (16.09 KB)\n",
       "</pre>\n"
      ],
      "text/plain": [
       "\u001b[1m Total params: \u001b[0m\u001b[38;5;34m4,118\u001b[0m (16.09 KB)\n"
      ]
     },
     "metadata": {},
     "output_type": "display_data"
    },
    {
     "data": {
      "text/html": [
       "<pre style=\"white-space:pre;overflow-x:auto;line-height:normal;font-family:Menlo,'DejaVu Sans Mono',consolas,'Courier New',monospace\"><span style=\"font-weight: bold\"> Trainable params: </span><span style=\"color: #00af00; text-decoration-color: #00af00\">3,585</span> (14.00 KB)\n",
       "</pre>\n"
      ],
      "text/plain": [
       "\u001b[1m Trainable params: \u001b[0m\u001b[38;5;34m3,585\u001b[0m (14.00 KB)\n"
      ]
     },
     "metadata": {},
     "output_type": "display_data"
    },
    {
     "data": {
      "text/html": [
       "<pre style=\"white-space:pre;overflow-x:auto;line-height:normal;font-family:Menlo,'DejaVu Sans Mono',consolas,'Courier New',monospace\"><span style=\"font-weight: bold\"> Non-trainable params: </span><span style=\"color: #00af00; text-decoration-color: #00af00\">533</span> (2.09 KB)\n",
       "</pre>\n"
      ],
      "text/plain": [
       "\u001b[1m Non-trainable params: \u001b[0m\u001b[38;5;34m533\u001b[0m (2.09 KB)\n"
      ]
     },
     "metadata": {},
     "output_type": "display_data"
    },
    {
     "name": "stderr",
     "output_type": "stream",
     "text": [
      "C:\\Users\\crisj\\miniconda3\\Lib\\site-packages\\keras\\src\\saving\\saving_lib.py:415: UserWarning: Skipping variable loading for optimizer 'adam', because it has 2 variables whereas the saved optimizer has 14 variables. \n",
      "  saveable.load_own_variables(weights_store.get(inner_path))\n"
     ]
    }
   ],
   "source": [
    "models = tuner.get_best_models(num_models=1)\n",
    "best_model = models[0]"
   ]
  },
  {
   "cell_type": "markdown",
   "id": "134f23ac-47d5-47fc-8ab8-a5fafd4f3dd5",
   "metadata": {},
   "source": [
    "## Arquitectura del modelo\n",
    "-----"
   ]
  },
  {
   "cell_type": "code",
   "execution_count": 360,
   "id": "704c635a-ad81-40e1-a9e9-911e4f1b3584",
   "metadata": {},
   "outputs": [
    {
     "data": {
      "text/html": [
       "<pre style=\"white-space:pre;overflow-x:auto;line-height:normal;font-family:Menlo,'DejaVu Sans Mono',consolas,'Courier New',monospace\"><span style=\"font-weight: bold\">Model: \"sequential\"</span>\n",
       "</pre>\n"
      ],
      "text/plain": [
       "\u001b[1mModel: \"sequential\"\u001b[0m\n"
      ]
     },
     "metadata": {},
     "output_type": "display_data"
    },
    {
     "data": {
      "text/html": [
       "<pre style=\"white-space:pre;overflow-x:auto;line-height:normal;font-family:Menlo,'DejaVu Sans Mono',consolas,'Courier New',monospace\">┏━━━━━━━━━━━━━━━━━━━━━━━━━━━━━━━━━━━━━━┳━━━━━━━━━━━━━━━━━━━━━━━━━━━━━┳━━━━━━━━━━━━━━━━━┓\n",
       "┃<span style=\"font-weight: bold\"> Layer (type)                         </span>┃<span style=\"font-weight: bold\"> Output Shape                </span>┃<span style=\"font-weight: bold\">         Param # </span>┃\n",
       "┡━━━━━━━━━━━━━━━━━━━━━━━━━━━━━━━━━━━━━━╇━━━━━━━━━━━━━━━━━━━━━━━━━━━━━╇━━━━━━━━━━━━━━━━━┩\n",
       "│ normalization (<span style=\"color: #0087ff; text-decoration-color: #0087ff\">Normalization</span>)        │ (<span style=\"color: #00d7ff; text-decoration-color: #00d7ff\">None</span>, <span style=\"color: #00af00; text-decoration-color: #00af00\">10</span>)                  │              <span style=\"color: #00af00; text-decoration-color: #00af00\">21</span> │\n",
       "├──────────────────────────────────────┼─────────────────────────────┼─────────────────┤\n",
       "│ dense (<span style=\"color: #0087ff; text-decoration-color: #0087ff\">Dense</span>)                        │ (<span style=\"color: #00d7ff; text-decoration-color: #00d7ff\">None</span>, <span style=\"color: #00af00; text-decoration-color: #00af00\">256</span>)                 │           <span style=\"color: #00af00; text-decoration-color: #00af00\">2,816</span> │\n",
       "├──────────────────────────────────────┼─────────────────────────────┼─────────────────┤\n",
       "│ batch_normalization                  │ (<span style=\"color: #00d7ff; text-decoration-color: #00d7ff\">None</span>, <span style=\"color: #00af00; text-decoration-color: #00af00\">256</span>)                 │           <span style=\"color: #00af00; text-decoration-color: #00af00\">1,024</span> │\n",
       "│ (<span style=\"color: #0087ff; text-decoration-color: #0087ff\">BatchNormalization</span>)                 │                             │                 │\n",
       "├──────────────────────────────────────┼─────────────────────────────┼─────────────────┤\n",
       "│ dense_1 (<span style=\"color: #0087ff; text-decoration-color: #0087ff\">Dense</span>)                      │ (<span style=\"color: #00d7ff; text-decoration-color: #00d7ff\">None</span>, <span style=\"color: #00af00; text-decoration-color: #00af00\">1</span>)                   │             <span style=\"color: #00af00; text-decoration-color: #00af00\">257</span> │\n",
       "└──────────────────────────────────────┴─────────────────────────────┴─────────────────┘\n",
       "</pre>\n"
      ],
      "text/plain": [
       "┏━━━━━━━━━━━━━━━━━━━━━━━━━━━━━━━━━━━━━━┳━━━━━━━━━━━━━━━━━━━━━━━━━━━━━┳━━━━━━━━━━━━━━━━━┓\n",
       "┃\u001b[1m \u001b[0m\u001b[1mLayer (type)                        \u001b[0m\u001b[1m \u001b[0m┃\u001b[1m \u001b[0m\u001b[1mOutput Shape               \u001b[0m\u001b[1m \u001b[0m┃\u001b[1m \u001b[0m\u001b[1m        Param #\u001b[0m\u001b[1m \u001b[0m┃\n",
       "┡━━━━━━━━━━━━━━━━━━━━━━━━━━━━━━━━━━━━━━╇━━━━━━━━━━━━━━━━━━━━━━━━━━━━━╇━━━━━━━━━━━━━━━━━┩\n",
       "│ normalization (\u001b[38;5;33mNormalization\u001b[0m)        │ (\u001b[38;5;45mNone\u001b[0m, \u001b[38;5;34m10\u001b[0m)                  │              \u001b[38;5;34m21\u001b[0m │\n",
       "├──────────────────────────────────────┼─────────────────────────────┼─────────────────┤\n",
       "│ dense (\u001b[38;5;33mDense\u001b[0m)                        │ (\u001b[38;5;45mNone\u001b[0m, \u001b[38;5;34m256\u001b[0m)                 │           \u001b[38;5;34m2,816\u001b[0m │\n",
       "├──────────────────────────────────────┼─────────────────────────────┼─────────────────┤\n",
       "│ batch_normalization                  │ (\u001b[38;5;45mNone\u001b[0m, \u001b[38;5;34m256\u001b[0m)                 │           \u001b[38;5;34m1,024\u001b[0m │\n",
       "│ (\u001b[38;5;33mBatchNormalization\u001b[0m)                 │                             │                 │\n",
       "├──────────────────────────────────────┼─────────────────────────────┼─────────────────┤\n",
       "│ dense_1 (\u001b[38;5;33mDense\u001b[0m)                      │ (\u001b[38;5;45mNone\u001b[0m, \u001b[38;5;34m1\u001b[0m)                   │             \u001b[38;5;34m257\u001b[0m │\n",
       "└──────────────────────────────────────┴─────────────────────────────┴─────────────────┘\n"
      ]
     },
     "metadata": {},
     "output_type": "display_data"
    },
    {
     "data": {
      "text/html": [
       "<pre style=\"white-space:pre;overflow-x:auto;line-height:normal;font-family:Menlo,'DejaVu Sans Mono',consolas,'Courier New',monospace\"><span style=\"font-weight: bold\"> Total params: </span><span style=\"color: #00af00; text-decoration-color: #00af00\">4,118</span> (16.09 KB)\n",
       "</pre>\n"
      ],
      "text/plain": [
       "\u001b[1m Total params: \u001b[0m\u001b[38;5;34m4,118\u001b[0m (16.09 KB)\n"
      ]
     },
     "metadata": {},
     "output_type": "display_data"
    },
    {
     "data": {
      "text/html": [
       "<pre style=\"white-space:pre;overflow-x:auto;line-height:normal;font-family:Menlo,'DejaVu Sans Mono',consolas,'Courier New',monospace\"><span style=\"font-weight: bold\"> Trainable params: </span><span style=\"color: #00af00; text-decoration-color: #00af00\">3,585</span> (14.00 KB)\n",
       "</pre>\n"
      ],
      "text/plain": [
       "\u001b[1m Trainable params: \u001b[0m\u001b[38;5;34m3,585\u001b[0m (14.00 KB)\n"
      ]
     },
     "metadata": {},
     "output_type": "display_data"
    },
    {
     "data": {
      "text/html": [
       "<pre style=\"white-space:pre;overflow-x:auto;line-height:normal;font-family:Menlo,'DejaVu Sans Mono',consolas,'Courier New',monospace\"><span style=\"font-weight: bold\"> Non-trainable params: </span><span style=\"color: #00af00; text-decoration-color: #00af00\">533</span> (2.09 KB)\n",
       "</pre>\n"
      ],
      "text/plain": [
       "\u001b[1m Non-trainable params: \u001b[0m\u001b[38;5;34m533\u001b[0m (2.09 KB)\n"
      ]
     },
     "metadata": {},
     "output_type": "display_data"
    }
   ],
   "source": [
    "best_model.summary()"
   ]
  },
  {
   "cell_type": "markdown",
   "id": "3bdcf543-f589-4d6d-805b-684c1cb6fdb4",
   "metadata": {},
   "source": [
    "## Se obtiene nuevamente el conjunto de pruebas completo a partir del conjuto de datos de validación y prueba\n",
    "-----"
   ]
  },
  {
   "cell_type": "code",
   "execution_count": 361,
   "id": "62049da8-4fc5-4830-a627-f2decc42865d",
   "metadata": {},
   "outputs": [],
   "source": [
    "test_features = np.concatenate((test_features, validation_features))"
   ]
  },
  {
   "cell_type": "code",
   "execution_count": 362,
   "id": "dac6cd2a-4388-4b32-9797-851b17bb428c",
   "metadata": {},
   "outputs": [],
   "source": [
    "test_labels = np.concatenate((test_labels, validation_labels))"
   ]
  },
  {
   "cell_type": "markdown",
   "id": "d8f25faa-ad64-4237-984b-a7a0e9bf3f7a",
   "metadata": {},
   "source": [
    "## Se realiza la predicción\n",
    "-----"
   ]
  },
  {
   "cell_type": "code",
   "execution_count": 363,
   "id": "f997341e-7da8-441d-a1b3-c263c045fda7",
   "metadata": {},
   "outputs": [
    {
     "name": "stdout",
     "output_type": "stream",
     "text": [
      "\u001b[1m2573/2573\u001b[0m \u001b[32m━━━━━━━━━━━━━━━━━━━━\u001b[0m\u001b[37m\u001b[0m \u001b[1m3s\u001b[0m 1ms/step\n"
     ]
    }
   ],
   "source": [
    "predict = best_model.predict(test_features)"
   ]
  },
  {
   "cell_type": "code",
   "execution_count": 364,
   "id": "b11be2b1-2085-49cd-902c-14fdc0ad16b8",
   "metadata": {},
   "outputs": [
    {
     "name": "stdout",
     "output_type": "stream",
     "text": [
      "[[0.87313557]\n",
      " [0.06346879]\n",
      " [0.6664119 ]\n",
      " ...\n",
      " [0.86379534]\n",
      " [0.6469596 ]\n",
      " [0.1701055 ]]\n"
     ]
    }
   ],
   "source": [
    "print(predict)"
   ]
  },
  {
   "cell_type": "markdown",
   "id": "cc7044b9-0b96-422f-a069-651024d86bf7",
   "metadata": {},
   "source": [
    "## Se etiquetan las probabilidades con las etiquetas de la clase a la que pertenecen, utilizando un umbral\n",
    "-----"
   ]
  },
  {
   "cell_type": "code",
   "execution_count": 365,
   "id": "d8ba7f54-11be-4241-bf30-439f5e8b2fb5",
   "metadata": {},
   "outputs": [],
   "source": [
    "#transformar probabilidades en enteros\n",
    "predict_labels = np.array([1 if x >= 0.5 else 0 for x in predict.flatten()], dtype=np.float32)"
   ]
  },
  {
   "cell_type": "code",
   "execution_count": 366,
   "id": "7d7102f5-b416-4a44-9978-d7e2e22f1cbd",
   "metadata": {},
   "outputs": [
    {
     "name": "stdout",
     "output_type": "stream",
     "text": [
      "82332\n"
     ]
    }
   ],
   "source": [
    "print(len(predict_labels))"
   ]
  },
  {
   "cell_type": "markdown",
   "id": "9a35744a-9e24-4dcf-9c9e-1e796736f8ae",
   "metadata": {},
   "source": [
    "## Se obtienen las métricas de clasificación\n",
    "-----"
   ]
  },
  {
   "cell_type": "code",
   "execution_count": 367,
   "id": "f4a029b5-39f4-4880-bb66-276969ded540",
   "metadata": {},
   "outputs": [
    {
     "name": "stdout",
     "output_type": "stream",
     "text": [
      "              precision    recall  f1-score   support\n",
      "\n",
      "         0.0       0.91      0.75      0.82     37000\n",
      "         1.0       0.82      0.94      0.88     45332\n",
      "\n",
      "    accuracy                           0.86     82332\n",
      "   macro avg       0.87      0.85      0.85     82332\n",
      "weighted avg       0.86      0.86      0.85     82332\n",
      "\n"
     ]
    }
   ],
   "source": [
    "print(classification_report(test_labels, predict_labels))"
   ]
  },
  {
   "cell_type": "markdown",
   "id": "53dea784-a0e1-4e2e-ac7c-08dade71bf58",
   "metadata": {},
   "source": [
    "## Se obtienen las matrices de confusión\n",
    "-----"
   ]
  },
  {
   "cell_type": "code",
   "execution_count": 368,
   "id": "1f305a20-4846-4aae-ab0b-e732e791e3b6",
   "metadata": {},
   "outputs": [
    {
     "name": "stdout",
     "output_type": "stream",
     "text": [
      "[[27658  9342]\n",
      " [ 2573 42759]]\n"
     ]
    }
   ],
   "source": [
    "result = confusion_matrix(test_labels, predict_labels)\n",
    "print(result)"
   ]
  },
  {
   "cell_type": "markdown",
   "id": "82ef0cff-c164-43d2-9208-858125e51ca2",
   "metadata": {},
   "source": [
    "### Matriz de confusión que muestra la cantidad de datos clasificados\n",
    "-----"
   ]
  },
  {
   "cell_type": "code",
   "execution_count": 369,
   "id": "f9e36be5-2cd5-41bf-81eb-248e48b9dde4",
   "metadata": {},
   "outputs": [],
   "source": [
    "confusion_matrix_labels = ['Tráfico de red normal', 'Tráfico de red bajo ataque']"
   ]
  },
  {
   "cell_type": "code",
   "execution_count": 370,
   "id": "12fc9b38-68fc-48f0-b550-5025b1822318",
   "metadata": {},
   "outputs": [
    {
     "data": {
      "image/png": "[encoded data removed]",
      "text/plain": [
       "<Figure size 640x480 with 2 Axes>"
      ]
     },
     "metadata": {},
     "output_type": "display_data"
    }
   ],
   "source": [
    "matrix = sns.heatmap(result, annot=True, xticklabels=confusion_matrix_labels, yticklabels=confusion_matrix_labels)\n",
    "_ = matrix.set(xlabel=\"Valor real\", ylabel=\"Valor predicho\")"
   ]
  },
  {
   "cell_type": "markdown",
   "id": "36dff7c6-4430-4ba2-b1fc-da9a76420831",
   "metadata": {},
   "source": [
    "### Matriz de confusión que muestra el porcentaje de datos clasificados por filas\n",
    "-----"
   ]
  },
  {
   "cell_type": "code",
   "execution_count": 371,
   "id": "390eceaa-b960-4b67-9e4d-b89a7425181f",
   "metadata": {},
   "outputs": [
    {
     "data": {
      "image/png": "[encoded data removed]",
      "text/plain": [
       "<Figure size 640x480 with 2 Axes>"
      ]
     },
     "metadata": {},
     "output_type": "display_data"
    }
   ],
   "source": [
    "porcentaje = result / np.sum(result, axis=1).reshape(2,1)\n",
    "matrix = sns.heatmap(porcentaje, annot=True, xticklabels=confusion_matrix_labels, yticklabels=confusion_matrix_labels)\n",
    "_ = matrix.set(xlabel=\"Valor real %\", ylabel=\"Valor predicho %\")"
   ]
  },
  {
   "cell_type": "markdown",
   "id": "039f50d8-2ba8-4483-9215-919c2a2f90ad",
   "metadata": {},
   "source": [
    "## Comparación equiparable a la realizada en el paper https://www.researchgate.net/publication/320944473_Towards_Developing_Network_forensic_mechanism_for_Botnet_Activities_in_the_IoT_based_on_Machine_Learning_Techniques\n",
    "-----"
   ]
  },
  {
   "cell_type": "markdown",
   "id": "06d8db75-fe43-4a58-98c1-20d11be0ad99",
   "metadata": {},
   "source": [
    "### Se obtiene el conjunto de datos total al combinar los datasets de entrenamiento, validación y prueba\n",
    "-----"
   ]
  },
  {
   "cell_type": "code",
   "execution_count": 372,
   "id": "162ea717-beb3-4023-a713-6ec71afb0b07",
   "metadata": {},
   "outputs": [],
   "source": [
    "paper_comparison_features = np.concatenate((train_features, test_features))"
   ]
  },
  {
   "cell_type": "code",
   "execution_count": 373,
   "id": "312306f3-9fca-4ddb-bc3b-3f6204cdc572",
   "metadata": {},
   "outputs": [],
   "source": [
    "paper_comparison_labels = np.concatenate((train_labels, test_labels))"
   ]
  },
  {
   "cell_type": "markdown",
   "id": "bc218030-4923-4283-8cc2-703c5ad9eaab",
   "metadata": {},
   "source": [
    "### Se realiza la predicción\n",
    "-----"
   ]
  },
  {
   "cell_type": "code",
   "execution_count": 374,
   "id": "3baf0ed2-b507-4782-a771-a1e7a2a1716c",
   "metadata": {},
   "outputs": [
    {
     "name": "stdout",
     "output_type": "stream",
     "text": [
      "\u001b[1m8053/8053\u001b[0m \u001b[32m━━━━━━━━━━━━━━━━━━━━\u001b[0m\u001b[37m\u001b[0m \u001b[1m9s\u001b[0m 1ms/step\n"
     ]
    }
   ],
   "source": [
    "paper_comparison_predict = best_model.predict(paper_comparison_features)"
   ]
  },
  {
   "cell_type": "code",
   "execution_count": 375,
   "id": "6e76643f-1a51-4998-8acc-9fd7824cec0f",
   "metadata": {},
   "outputs": [
    {
     "name": "stdout",
     "output_type": "stream",
     "text": [
      "[[0.66173965]\n",
      " [0.878541  ]\n",
      " [0.8643424 ]\n",
      " ...\n",
      " [0.86379534]\n",
      " [0.64695966]\n",
      " [0.1701056 ]]\n"
     ]
    }
   ],
   "source": [
    "print(paper_comparison_predict)"
   ]
  },
  {
   "cell_type": "markdown",
   "id": "00548184-2b67-44be-8875-647ae796f553",
   "metadata": {},
   "source": [
    "### Se etiquetan las probabilidades con las etiquetas de la clase a la que pertenecen, utilizando un umbral\n",
    "-----"
   ]
  },
  {
   "cell_type": "code",
   "execution_count": 376,
   "id": "c9c7ffc9-8cae-4100-aac2-fcc1bddcd6ec",
   "metadata": {},
   "outputs": [],
   "source": [
    "#transformar probabilidades en enteros\n",
    "paper_comparison_predict_labels = np.array([1 if x >= 0.5 else 0 for x in paper_comparison_predict.flatten()], dtype=np.float32)"
   ]
  },
  {
   "cell_type": "code",
   "execution_count": 377,
   "id": "aa44522d-082e-4016-8b55-c98eb5ab77c6",
   "metadata": {},
   "outputs": [
    {
     "name": "stdout",
     "output_type": "stream",
     "text": [
      "257673\n"
     ]
    }
   ],
   "source": [
    "print(len(paper_comparison_predict_labels))"
   ]
  },
  {
   "cell_type": "markdown",
   "id": "97691cc4-8108-4d8a-9fc9-d46fd636de89",
   "metadata": {},
   "source": [
    "### Se obtienen las métricas de clasificación\n",
    "-----"
   ]
  },
  {
   "cell_type": "code",
   "execution_count": 378,
   "id": "0e0faa5f-a850-45e8-98be-44db2b519255",
   "metadata": {},
   "outputs": [
    {
     "name": "stdout",
     "output_type": "stream",
     "text": [
      "              precision    recall  f1-score   support\n",
      "\n",
      "         0.0       0.89      0.83      0.86     93000\n",
      "         1.0       0.91      0.94      0.92    164673\n",
      "\n",
      "    accuracy                           0.90    257673\n",
      "   macro avg       0.90      0.88      0.89    257673\n",
      "weighted avg       0.90      0.90      0.90    257673\n",
      "\n"
     ]
    }
   ],
   "source": [
    "print(classification_report(paper_comparison_labels, paper_comparison_predict_labels))"
   ]
  },
  {
   "cell_type": "markdown",
   "id": "34e23bad-05d6-4c4c-8f39-c4bfac4e9667",
   "metadata": {},
   "source": [
    "### Se obtienen las matrices de confusión\n",
    "-----"
   ]
  },
  {
   "cell_type": "code",
   "execution_count": 379,
   "id": "b783910d-31fa-46da-a429-30522049f254",
   "metadata": {},
   "outputs": [
    {
     "name": "stdout",
     "output_type": "stream",
     "text": [
      "[[ 76978  16022]\n",
      " [  9577 155096]]\n"
     ]
    }
   ],
   "source": [
    "paper_comparison_result = confusion_matrix(paper_comparison_labels, paper_comparison_predict_labels)\n",
    "print(paper_comparison_result)"
   ]
  },
  {
   "cell_type": "markdown",
   "id": "75bbce49-84a1-4935-8a6e-d995f1c4d125",
   "metadata": {},
   "source": [
    "#### Matriz de confusión que muestra la cantidad de datos clasificados\n",
    "-----"
   ]
  },
  {
   "cell_type": "code",
   "execution_count": 380,
   "id": "f94c9e0e-71a5-4664-bb0d-3275a42dad4d",
   "metadata": {},
   "outputs": [],
   "source": [
    "confusion_matrix_labels = ['Tráfico de red normal', 'Tráfico de red bajo ataque']"
   ]
  },
  {
   "cell_type": "code",
   "execution_count": 381,
   "id": "718e44ba-0d81-4d39-a73c-89e21ef670b7",
   "metadata": {},
   "outputs": [
    {
     "data": {
      "image/png": "[encoded data removed]",
      "text/plain": [
       "<Figure size 640x480 with 2 Axes>"
      ]
     },
     "metadata": {},
     "output_type": "display_data"
    }
   ],
   "source": [
    "paper_comparison_matrix = sns.heatmap(paper_comparison_result, annot=True, xticklabels=confusion_matrix_labels, yticklabels=confusion_matrix_labels)\n",
    "_ = paper_comparison_matrix.set(xlabel=\"Valor real\", ylabel=\"Valor predicho\")"
   ]
  },
  {
   "cell_type": "markdown",
   "id": "2d5e35da-492e-44ed-be72-e10563744ac6",
   "metadata": {},
   "source": [
    "#### Matriz de confusión que muestra el porcentaje de datos clasificados por filas\n",
    "-----"
   ]
  },
  {
   "cell_type": "code",
   "execution_count": 382,
   "id": "de0264da-d614-433b-ae73-245e9e730972",
   "metadata": {},
   "outputs": [
    {
     "data": {
      "image/png": "[encoded data removed]",
      "text/plain": [
       "<Figure size 640x480 with 2 Axes>"
      ]
     },
     "metadata": {},
     "output_type": "display_data"
    }
   ],
   "source": [
    "paper_comparison_porcentaje = paper_comparison_result / np.sum(paper_comparison_result, axis=1).reshape(2,1)\n",
    "paper_comparison_matrix = sns.heatmap(paper_comparison_porcentaje, annot=True, xticklabels=confusion_matrix_labels, yticklabels=confusion_matrix_labels)\n",
    "_ = paper_comparison_matrix.set(xlabel=\"Valor real %\", ylabel=\"Valor predicho %\")"
   ]
  },
  {
   "cell_type": "code",
   "execution_count": null,
   "id": "d7e96173-5174-4d24-b345-f30444e4a5e4",
   "metadata": {},
   "outputs": [],
   "source": []
  }
 ],
 "metadata": {
  "kernelspec": {
   "display_name": "Python 3 (ipykernel)",
   "language": "python",
   "name": "python3"
  },
  "language_info": {
   "codemirror_mode": {
    "name": "ipython",
    "version": 3
   },
   "file_extension": ".py",
   "mimetype": "text/x-python",
   "name": "python",
   "nbconvert_exporter": "python",
   "pygments_lexer": "ipython3",
   "version": "3.12.2"
  }
 },
 "nbformat": 4,
 "nbformat_minor": 5
}
